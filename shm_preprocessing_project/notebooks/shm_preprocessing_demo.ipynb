{
 "cells": [
  {
   "cell_type": "markdown",
   "id": "ed16dc2d",
   "metadata": {},
   "source": [
    "# SHM Ambient Vibration Preprocessing Demo\n",
    "\n",
    "This Jupyter notebook demonstrates how to preprocess ambient vibration data from a tall building. We'll load data, visualize raw signals, apply filtering, run FFT, and extract meaningful statistics. Explanations are provided for each step."
   ]
  },
  {
   "cell_type": "code",
   "execution_count": null,
   "id": "8941a57d",
   "metadata": {},
   "outputs": [],
   "source": [
    "# Step 1: Load Data\n",
    "import pandas as pd\n",
    "import matplotlib.pyplot as plt\n",
    "from scipy.signal import butter, filtfilt, periodogram\n",
    "\n",
    "# Edit this path if needed\n",
    "df = pd.read_csv('mock_accel_data.csv')\n",
    "t = df['Time']\n",
    "x = df['Acceleration']\n",
    "df.head()"
   ]
  },
  {
   "cell_type": "markdown",
   "id": "c8d86dc0",
   "metadata": {},
   "source": [
    "## Step 2: Plot Raw Acceleration vs. Time\n",
    "Visualizing the time-domain signal helps spot outliers, trends, and general data quality."
   ]
  },
  {
   "cell_type": "code",
   "execution_count": null,
   "id": "7ee5dc11",
   "metadata": {},
   "outputs": [],
   "source": [
    "plt.figure(figsize=(10, 4))\n",
    "plt.plot(t, x, linewidth=0.8)\n",
    "plt.title('Raw Acceleration Signal (Time Domain)')\n",
    "plt.xlabel('Time (s)')\n",
    "plt.ylabel('Acceleration (g)')\n",
    "plt.grid(True)\n",
    "plt.tight_layout()\n",
    "plt.show()"
   ]
  },
  {
   "cell_type": "markdown",
   "id": "063a1e8e",
   "metadata": {},
   "source": [
    "## Step 3: Apply Bandpass Filter (0.1–1.0 Hz)\n",
    "Filtering isolates the low-frequency range where wind-induced accelerations usually dominate in tall buildings."
   ]
  },
  {
   "cell_type": "code",
   "execution_count": null,
   "id": "800e6464",
   "metadata": {},
   "outputs": [],
   "source": [
    "def bandpass_filter(data, lowcut, highcut, fs, order=4):\n",
    "    nyq = 0.5 * fs\n",
    "    low = lowcut / nyq\n",
    "    high = highcut / nyq\n",
    "    b, a = butter(order, [low, high], btype='band')\n",
    "    return filtfilt(b, a, data)\n",
    "\n",
    "fs = 100  # Hz\n",
    "filtered_x = bandpass_filter(x, 0.1, 1.0, fs)\n",
    "\n",
    "plt.figure(figsize=(10, 4))\n",
    "plt.plot(t, filtered_x, linewidth=0.8, color='green')\n",
    "plt.title('Filtered Acceleration Signal (0.1–1.0 Hz)')\n",
    "plt.xlabel('Time (s)')\n",
    "plt.ylabel('Acceleration (g)')\n",
    "plt.grid(True)\n",
    "plt.tight_layout()\n",
    "plt.show()"
   ]
  },
  {
   "cell_type": "markdown",
   "id": "3c857b57",
   "metadata": {},
   "source": [
    "## Step 4: Power Spectral Density (FFT)\n",
    "The FFT reveals the dominant frequencies in the signal — for tall buildings, these are typically in the sub-1 Hz range."
   ]
  },
  {
   "cell_type": "code",
   "execution_count": null,
   "id": "b7065f46",
   "metadata": {},
   "outputs": [],
   "source": [
    "f, Pxx = periodogram(filtered_x, fs)\n",
    "\n",
    "plt.figure(figsize=(10, 4))\n",
    "plt.semilogy(f, Pxx)\n",
    "plt.title('Power Spectral Density (FFT)')\n",
    "plt.xlabel('Frequency (Hz)')\n",
    "plt.ylabel('Power')\n",
    "plt.grid(True)\n",
    "plt.tight_layout()\n",
    "plt.show()"
   ]
  },
  {
   "cell_type": "markdown",
   "id": "c30d0433",
   "metadata": {},
   "source": [
    "## Step 5: Compute Key Statistics\n",
    "- RMS acceleration is a measure of overall vibration energy\n",
    "- Peak acceleration shows maximum displacement\n",
    "- Dominant frequency is the most energetic mode (often the fundamental mode in real data)"
   ]
  },
  {
   "cell_type": "code",
   "execution_count": null,
   "id": "c18a92c8",
   "metadata": {},
   "outputs": [],
   "source": [
    "import numpy as np\n",
    "rms = np.sqrt(np.mean(filtered_x**2))\n",
    "peak = np.max(np.abs(filtered_x))\n",
    "dominant_freq = f[np.argmax(Pxx)]\n",
    "print(f'RMS Acceleration: {rms:.3f} g')\n",
    "print(f'Peak Acceleration: {peak:.3f} g')\n",
    "print(f'Dominant Frequency: {dominant_freq:.3f} Hz')"
   ]
  },
  {
   "cell_type": "markdown",
   "id": "f8c8a372",
   "metadata": {},
   "source": [
    "> **Summary:**\n",
    "We have processed synthetic ambient vibration data using Python and common SHM signal processing techniques."
   ]
  }
 ],
 "metadata": {},
 "nbformat": 4,
 "nbformat_minor": 5
}
